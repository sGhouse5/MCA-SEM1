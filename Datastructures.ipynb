{
 "cells": [
  {
   "cell_type": "code",
   "execution_count": null,
   "id": "a670b026",
   "metadata": {},
   "outputs": [
    {
     "name": "stdout",
     "output_type": "stream",
     "text": [
      "(1, 2, 3)\n",
      "(1, 'HEllo', 3.4)\n",
      "('mouse', [8, 4, 6], (1, 2, 3))\n",
      "(3, 4.6, 'Apple')\n"
     ]
    }
   ],
   "source": [
    "my_tuple = (1,2,3)\n",
    "print(my_tuple)\n",
    "\n",
    "#tuple with mixed datatypes\n",
    "tuple = (1, \"HEllo\", 3.4)\n",
    "print(tuple)\n",
    "\n",
    "#nested tuple\n",
    "tuple_new = (\"mouse\", [8,4,6], (1,2,3))\n",
    "print(tuple_new)\n",
    "\n",
    "#tuple packing\n",
    "mytuple = 3, 4.6, \"Apple\"\n",
    "print(mytuple)"
   ]
  },
  {
   "cell_type": "code",
   "execution_count": 4,
   "id": "ff1e8384",
   "metadata": {},
   "outputs": [
    {
     "name": "stdout",
     "output_type": "stream",
     "text": [
      "p\n",
      "s\n",
      "4\n"
     ]
    }
   ],
   "source": [
    "#Accessing Tuple elements using indexing\n",
    "tuple_new = ('t','u','p','l','e')\n",
    "print(tuple_new[2])\n",
    "\n",
    "#Nested Tuple\n",
    "n_tuple =(\"mouse\", [8,4,6], (1,2,3))\n",
    "print(n_tuple[0][3])\n",
    "print(n_tuple[1][1])"
   ]
  },
  {
   "cell_type": "code",
   "execution_count": 10,
   "id": "c0a4f829",
   "metadata": {},
   "outputs": [
    {
     "name": "stdout",
     "output_type": "stream",
     "text": [
      "('x', 'c', 'a')\n",
      "('e', 'x')\n",
      "('u', 'r')\n",
      "('e', 'x', 'c', 'a', 'l', 'i', 'b', 'u', 'r')\n",
      "('e', 'c', 'l', 'b', 'r')\n"
     ]
    }
   ],
   "source": [
    "#Slicing\n",
    "a = ('e','x','c','a','l','i','b','u','r')\n",
    "print(a[1:4])\n",
    "print(a[:-7])\n",
    "print(a[7:])\n",
    "print(a[:])\n",
    "print(a[::2])"
   ]
  },
  {
   "cell_type": "code",
   "execution_count": null,
   "id": "e3e12cb5",
   "metadata": {},
   "outputs": [
    {
     "name": "stdout",
     "output_type": "stream",
     "text": [
      "(1, 2, 3, 3, 4, 5)\n",
      "[1, 2, 3, 3, 4, 5]\n"
     ]
    }
   ],
   "source": [
    "print((1,2,3) + (3,4,5))"
   ]
  },
  {
   "cell_type": "code",
   "execution_count": 13,
   "id": "ae517a4c",
   "metadata": {},
   "outputs": [
    {
     "name": "stdout",
     "output_type": "stream",
     "text": [
      "('Repeat', 'Repeat', 'Repeat')\n"
     ]
    }
   ],
   "source": [
    "print((\"Repeat\",) * 3)"
   ]
  },
  {
   "cell_type": "code",
   "execution_count": 15,
   "id": "a33cf8d9",
   "metadata": {},
   "outputs": [
    {
     "name": "stdout",
     "output_type": "stream",
     "text": [
      "2\n",
      "0\n"
     ]
    }
   ],
   "source": [
    "b = ('a','p','p','l','e')\n",
    "print(b.count('p'))\n",
    "print(b.index('a'))"
   ]
  },
  {
   "cell_type": "code",
   "execution_count": 1,
   "id": "9923a351",
   "metadata": {},
   "outputs": [
    {
     "name": "stdout",
     "output_type": "stream",
     "text": [
      "Index 0: apple\n",
      "Index 1: banana\n",
      "Index 2: cherry\n"
     ]
    }
   ],
   "source": [
    "fruits = [\"apple\", \"banana\", \"cherry\"]\n",
    "for index, fruit in enumerate(fruits):\n",
    "    print(f\"Index {index}: {fruit}\")"
   ]
  }
 ],
 "metadata": {
  "kernelspec": {
   "display_name": "Python 3",
   "language": "python",
   "name": "python3"
  },
  "language_info": {
   "codemirror_mode": {
    "name": "ipython",
    "version": 3
   },
   "file_extension": ".py",
   "mimetype": "text/x-python",
   "name": "python",
   "nbconvert_exporter": "python",
   "pygments_lexer": "ipython3",
   "version": "3.13.7"
  }
 },
 "nbformat": 4,
 "nbformat_minor": 5
}
