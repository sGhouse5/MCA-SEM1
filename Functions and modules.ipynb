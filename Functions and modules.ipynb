{
 "cells": [
  {
   "cell_type": "code",
   "execution_count": null,
   "id": "76d03a4f",
   "metadata": {},
   "outputs": [
    {
     "name": "stdout",
     "output_type": "stream",
     "text": [
      "Odd\n"
     ]
    }
   ],
   "source": [
    "n = input(\"Enter Value\")\n",
    "if int(n) % 2 == 0:\n",
    "    print(\"Even\")\n",
    "else:\n",
    "    print(\"Odd\")\n",
    "    "
   ]
  },
  {
   "cell_type": "markdown",
   "id": "d8399c8d",
   "metadata": {},
   "source": [
    "# Function with parameters"
   ]
  },
  {
   "cell_type": "code",
   "execution_count": 2,
   "id": "fa53ba73",
   "metadata": {},
   "outputs": [
    {
     "name": "stdout",
     "output_type": "stream",
     "text": [
      "total = 60\n",
      "total = 29\n"
     ]
    }
   ],
   "source": [
    "def total(a, b, c):\n",
    "    ans = a + b + c \n",
    "    print(f'total = {ans}')\n",
    "    \n",
    "total(10, 20, 30)\n",
    "total(1, 25, 3)"
   ]
  },
  {
   "cell_type": "markdown",
   "id": "8a83f066",
   "metadata": {},
   "source": [
    "# Function without parameters"
   ]
  },
  {
   "cell_type": "code",
   "execution_count": 4,
   "id": "bce09ba0",
   "metadata": {},
   "outputs": [
    {
     "name": "stdout",
     "output_type": "stream",
     "text": [
      "Hellow\n",
      "Hellow\n",
      "Hellow\n"
     ]
    }
   ],
   "source": [
    "def msg():\n",
    "    print(\"Hellow\")\n",
    "    \n",
    "msg()\n",
    "msg()\n",
    "msg()"
   ]
  },
  {
   "cell_type": "code",
   "execution_count": null,
   "id": "33faa5bd",
   "metadata": {},
   "outputs": [
    {
     "ename": "TypeError",
     "evalue": "mul() missing 2 required positional arguments: 'a' and 'b'",
     "output_type": "error",
     "traceback": [
      "\u001b[31m---------------------------------------------------------------------------\u001b[39m",
      "\u001b[31mTypeError\u001b[39m                                 Traceback (most recent call last)",
      "\u001b[36mCell\u001b[39m\u001b[36m \u001b[39m\u001b[32mIn[1]\u001b[39m\u001b[32m, line 5\u001b[39m\n\u001b[32m      2\u001b[39m     \u001b[38;5;28mprint\u001b[39m(a * b)\n\u001b[32m      4\u001b[39m \u001b[38;5;66;03m#mul(12, 20)  \u001b[39;00m\n\u001b[32m----> \u001b[39m\u001b[32m5\u001b[39m \u001b[43mmul\u001b[49m\u001b[43m(\u001b[49m\u001b[43m)\u001b[49m - error\n\u001b[32m      6\u001b[39m \u001b[38;5;66;03m#mul(10) - error\u001b[39;00m\n\u001b[32m      7\u001b[39m \u001b[38;5;66;03m#mul('10', '20') - error\u001b[39;00m\n",
      "\u001b[31mTypeError\u001b[39m: mul() missing 2 required positional arguments: 'a' and 'b'"
     ]
    }
   ],
   "source": [
    "def mul(a, b):\n",
    "    print(a * b)\n",
    "  \n",
    "mul(12, 20)  \n",
    "#mul() - error\n",
    "#mul(10) - error\n",
    "#mul('10', '20') - error\n"
   ]
  },
  {
   "cell_type": "markdown",
   "id": "69ab14a3",
   "metadata": {},
   "source": [
    "# Function with return and parameters"
   ]
  },
  {
   "cell_type": "code",
   "execution_count": 13,
   "id": "7e1be48a",
   "metadata": {},
   "outputs": [
    {
     "data": {
      "text/plain": [
       "11.180339887498949"
      ]
     },
     "execution_count": 13,
     "metadata": {},
     "output_type": "execute_result"
    }
   ],
   "source": [
    "import math\n",
    "\n",
    "def hyp(p, b):\n",
    "    ans = math.sqrt((p ** 2) + (b ** 2))\n",
    "    return ans\n",
    "\n",
    "hyp(10, 5)"
   ]
  },
  {
   "cell_type": "code",
   "execution_count": 16,
   "id": "349a4993",
   "metadata": {},
   "outputs": [
    {
     "data": {
      "text/plain": [
       "True"
      ]
     },
     "execution_count": 16,
     "metadata": {},
     "output_type": "execute_result"
    }
   ],
   "source": [
    "def is_even(num):\n",
    "    if num % 2 == 0:\n",
    "        return True\n",
    "    else:\n",
    "        return False\n",
    "\n",
    "is_even(10)"
   ]
  },
  {
   "cell_type": "code",
   "execution_count": 17,
   "id": "e7c447d3",
   "metadata": {},
   "outputs": [
    {
     "name": "stdout",
     "output_type": "stream",
     "text": [
      "Good Job\n"
     ]
    }
   ],
   "source": [
    "x = int(input(\"Enter number\"))\n",
    "\n",
    "if is_even(x):\n",
    "    print(\"Good Job\")\n",
    "else:\n",
    "    print(\"You are stupid\")"
   ]
  },
  {
   "cell_type": "code",
   "execution_count": 12,
   "id": "79b046e2",
   "metadata": {},
   "outputs": [
    {
     "name": "stdout",
     "output_type": "stream",
     "text": [
      "50\n"
     ]
    }
   ],
   "source": [
    "def area(l, b):\n",
    "    return l*b\n",
    "\n",
    "ans = area(10, 5)\n",
    "print(ans)\n"
   ]
  },
  {
   "cell_type": "code",
   "execution_count": null,
   "id": "36722943",
   "metadata": {},
   "outputs": [
    {
     "name": "stdout",
     "output_type": "stream",
     "text": [
      "1000\n",
      "100\n"
     ]
    }
   ],
   "source": [
    "def pow(n , e=2):\n",
    "    return n ** e\n",
    "\n",
    "print(pow(10, 3))\n",
    "print(pow(10))\n",
    "# required parameters cannot follow default parameters\n",
    "\"\"\"1. default functions should be started from right\n",
    "   2. can be ommited to pass actual parameters\"\"\""
   ]
  },
  {
   "cell_type": "code",
   "execution_count": 23,
   "id": "c2c95868",
   "metadata": {},
   "outputs": [
    {
     "data": {
      "text/plain": [
       "1"
      ]
     },
     "execution_count": 23,
     "metadata": {},
     "output_type": "execute_result"
    }
   ],
   "source": [
    "def adder(a, b=0, c=0, d=0):\n",
    "    return a+b+c+d \n",
    "adder(1)"
   ]
  },
  {
   "cell_type": "code",
   "execution_count": 20,
   "id": "cc8b05ef",
   "metadata": {},
   "outputs": [
    {
     "data": {
      "text/plain": [
       "3"
      ]
     },
     "execution_count": 20,
     "metadata": {},
     "output_type": "execute_result"
    }
   ],
   "source": [
    "adder(1, 2)"
   ]
  },
  {
   "cell_type": "code",
   "execution_count": 21,
   "id": "80a11981",
   "metadata": {},
   "outputs": [
    {
     "data": {
      "text/plain": [
       "6"
      ]
     },
     "execution_count": 21,
     "metadata": {},
     "output_type": "execute_result"
    }
   ],
   "source": [
    "adder(1, 2, 3)"
   ]
  },
  {
   "cell_type": "code",
   "execution_count": 22,
   "id": "89f57a57",
   "metadata": {},
   "outputs": [
    {
     "data": {
      "text/plain": [
       "10"
      ]
     },
     "execution_count": 22,
     "metadata": {},
     "output_type": "execute_result"
    }
   ],
   "source": [
    "adder(1, 2, 3, 4)"
   ]
  }
 ],
 "metadata": {
  "kernelspec": {
   "display_name": "Python 3",
   "language": "python",
   "name": "python3"
  },
  "language_info": {
   "codemirror_mode": {
    "name": "ipython",
    "version": 3
   },
   "file_extension": ".py",
   "mimetype": "text/x-python",
   "name": "python",
   "nbconvert_exporter": "python",
   "pygments_lexer": "ipython3",
   "version": "3.13.9"
  }
 },
 "nbformat": 4,
 "nbformat_minor": 5
}
