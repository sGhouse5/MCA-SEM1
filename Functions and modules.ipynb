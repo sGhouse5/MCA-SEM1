{
 "cells": [
  {
   "cell_type": "code",
   "execution_count": null,
   "id": "fbcf15cb",
   "metadata": {},
   "outputs": [],
   "source": [
    "print(\"just trying man\")"
   ]
  }
 ],
 "metadata": {
  "language_info": {
   "name": "python"
  }
 },
 "nbformat": 4,
 "nbformat_minor": 5
}
