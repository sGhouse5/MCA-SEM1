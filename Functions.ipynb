{
 "cells": [
  {
   "cell_type": "markdown",
   "id": "db6a5db0",
   "metadata": {},
   "source": [
    "### non returning non parametaraized functions"
   ]
  },
  {
   "cell_type": "code",
   "execution_count": 1,
   "id": "db46522c",
   "metadata": {},
   "outputs": [
    {
     "name": "stdout",
     "output_type": "stream",
     "text": [
      "*****\n",
      "Good Morning\n",
      "*****\n"
     ]
    }
   ],
   "source": [
    "# efintion\n",
    "def greeting():\n",
    "    print(\"*\" * 5)\n",
    "    print(\"Good Morning\")\n",
    "    print(\"*\" * 5)\n",
    "    \n",
    "#call\n",
    "greeting()   "
   ]
  },
  {
   "cell_type": "markdown",
   "id": "ef2715e6",
   "metadata": {},
   "source": [
    "### Value returning functions"
   ]
  },
  {
   "cell_type": "code",
   "execution_count": 2,
   "id": "5c3ccea4",
   "metadata": {},
   "outputs": [
    {
     "name": "stdout",
     "output_type": "stream",
     "text": [
      "d\n",
      "e\n",
      "e\n",
      "a\n",
      "b\n",
      "a\n"
     ]
    }
   ],
   "source": [
    "def dic_roll():\n",
    "    import random \n",
    "    \"\"\"out = {1 : '1', 2 : '2', 3 : '3', 4 : '4', 5 : '5', 6 : '6'}\n",
    "    return out.get(random.randint(1, 6)) # return keyword used\"\"\"\n",
    "    \n",
    "    ok = [\"a\", \"b\", \"c\", \"d\", \"e\"]\n",
    "    inn = [0, 1, 2, 3, 4, 5]\n",
    "    return ok[random.choice(inn)]\n",
    "\n",
    "#calls\n",
    "print(dic_roll())\n",
    "print(dic_roll())\n",
    "print(dic_roll())\n",
    "print(dic_roll())\n",
    "print(dic_roll())\n",
    "print(dic_roll())"
   ]
  },
  {
   "cell_type": "markdown",
   "id": "4a7dfb6b",
   "metadata": {},
   "source": [
    "### Parametaraized value returning function"
   ]
  },
  {
   "cell_type": "code",
   "execution_count": 47,
   "id": "f4ecfcda",
   "metadata": {},
   "outputs": [
    {
     "name": "stdout",
     "output_type": "stream",
     "text": [
      "False\n",
      "True\n",
      "True\n",
      "False\n"
     ]
    }
   ],
   "source": [
    "def is_valid_password(pwd):\n",
    "    if len(pwd) < 8: return False\n",
    "    if not pwd.isalnum(): return False \n",
    "    return True\n",
    "\n",
    "print(is_valid_password(\"hello\"))\n",
    "print(is_valid_password(\"helloworld\"))\n",
    "print(is_valid_password(\"helloworld10\"))\n",
    "print(is_valid_password(\"74@687545\"))"
   ]
  },
  {
   "cell_type": "markdown",
   "id": "5923218a",
   "metadata": {},
   "source": [
    "###"
   ]
  },
  {
   "cell_type": "code",
   "execution_count": null,
   "id": "c973c708",
   "metadata": {},
   "outputs": [
    {
     "name": "stdout",
     "output_type": "stream",
     "text": [
      "area = 1800\n"
     ]
    }
   ],
   "source": [
    "# proper function syntax in python\n",
    "def area(length = int, breadth = int) -> int: #-> didnit got an y :\n",
    "    return length * breadth\n",
    "\n",
    "l = 120\n",
    "b = 15 \n",
    "a = area(l, b)\n",
    "print(f'area = {a}')"
   ]
  },
  {
   "cell_type": "markdown",
   "id": "23b47e9a",
   "metadata": {},
   "source": [
    "### Text cleaning function"
   ]
  },
  {
   "cell_type": "code",
   "execution_count": null,
   "id": "94e5a173",
   "metadata": {},
   "outputs": [
    {
     "name": "stdout",
     "output_type": "stream",
     "text": [
      "Hellow\n",
      "Hi\n"
     ]
    }
   ],
   "source": [
    "                           \n",
    "def cleanText(data, to_remove = \"@#$%\"):  # default args\n",
    "    newdata = data              # make a copy of data\n",
    "    for char in to_remove:      # loop of each char to remove\n",
    "        newdata = newdata.replace(char, \"\") # use replace to remove char\n",
    "    return newdata              # return newdata\n",
    "\n",
    "ctext = cleanText(\"Hel#l@o@w\")  # default chars used for removing\n",
    "print(ctext)\n",
    "ctext2 = cleanText(\"H@%()><#i\", to_remove=\"@%!><?#()\")  # updated chars\n",
    "print(ctext2)"
   ]
  },
  {
   "cell_type": "markdown",
   "id": "72aa8622",
   "metadata": {},
   "source": [
    "### sending multiple parameters manually to function"
   ]
  },
  {
   "cell_type": "code",
   "execution_count": 21,
   "id": "8f8f027d",
   "metadata": {},
   "outputs": [
    {
     "name": "stdout",
     "output_type": "stream",
     "text": [
      "39\n"
     ]
    }
   ],
   "source": [
    "def add100(a,b,c,d,e,f,g,h,i,j,k,l,m,n,o,p,q,r,s,t,u,v,w,x,y,z):\n",
    "    return a+b+c+d+e+f+g+h+i+j+k+l+m+n+o+p+q+r+s+t+u+v+w+x+y+z\n",
    "\n",
    "print(add100(1,2,1,2,1,2,1,2,1,2,1,2,1,2,1,2,1,2,1,2,1,2,1,2,1,2))"
   ]
  },
  {
   "cell_type": "markdown",
   "id": "4537abd0",
   "metadata": {},
   "source": [
    "### variable Arguments in python\n",
    "A function can have variable arguments in python using* symbol before a parameter in in function defination . This allows the funvtion to accept any number of positional arguments as a tuple."
   ]
  },
  {
   "cell_type": "code",
   "execution_count": 24,
   "id": "d589c2bb",
   "metadata": {},
   "outputs": [
    {
     "name": "stdout",
     "output_type": "stream",
     "text": [
      "1\n",
      "4680\n",
      "435090601440\n"
     ]
    }
   ],
   "source": [
    "# a function that can pultiply n paramters\n",
    "def multiplier(*number):\n",
    "    result = 1\n",
    "    for value in number:\n",
    "        result *= value\n",
    "    return result\n",
    "\n",
    "print(multiplier()) # no value\n",
    "print(multiplier(2,585,4))  # with few arguments\n",
    "print(multiplier(11,425858,344,5,54))  # with many arguments  "
   ]
  },
  {
   "cell_type": "markdown",
   "id": "61573535",
   "metadata": {},
   "source": []
  },
  {
   "cell_type": "code",
   "execution_count": 33,
   "id": "044bf711",
   "metadata": {},
   "outputs": [
    {
     "name": "stdout",
     "output_type": "stream",
     "text": [
      "24\n",
      "10\n",
      "Wrong operator given, please provide + or *\n"
     ]
    }
   ],
   "source": [
    "def operate(*args, operator=\"*\"):\n",
    "    if operator == \"*\":\n",
    "        result = 1\n",
    "        for num in args:\n",
    "            result *= num\n",
    "        return result\n",
    "    elif operator == \"+\":\n",
    "        result = 0\n",
    "        for num in args:\n",
    "            result += num\n",
    "        return result\n",
    "    else:\n",
    "        return \"Wrong operator given, please provide + or *\"\n",
    "    \n",
    "print(operate(1,2,3,4))\n",
    "print(operate(1,2,3,4, operator = \"+\"))\n",
    "print(operate(1,2,3,4, operator= \"-\"))"
   ]
  },
  {
   "cell_type": "markdown",
   "id": "73d623c6",
   "metadata": {},
   "source": [
    "### Anonymous Functions in python\n",
    "Anonymous functions, also known as lambda functions are small, unnamed functions defined using the lambda keyword.\n",
    "f(x) = x*2 + 10 == lambda x: x*2 + 10"
   ]
  },
  {
   "cell_type": "code",
   "execution_count": null,
   "id": "8dc2029b",
   "metadata": {},
   "outputs": [
    {
     "name": "stdout",
     "output_type": "stream",
     "text": [
      "<function <lambda> at 0x0000019A51C156C0>\n"
     ]
    }
   ],
   "source": [
    "f = lambda x: x*2 + 10\n",
    "print(f) # shows memory, not to be used normally"
   ]
  },
  {
   "cell_type": "code",
   "execution_count": 35,
   "id": "f7a82593",
   "metadata": {},
   "outputs": [
    {
     "name": "stdout",
     "output_type": "stream",
     "text": [
      "14\n",
      "34\n",
      "52\n"
     ]
    }
   ],
   "source": [
    "print(f(2))\n",
    "print(f(12))\n",
    "print(f(21))"
   ]
  },
  {
   "cell_type": "code",
   "execution_count": 36,
   "id": "30a09210",
   "metadata": {},
   "outputs": [
    {
     "name": "stdout",
     "output_type": "stream",
     "text": [
      "60\n"
     ]
    }
   ],
   "source": [
    "g = lambda x, y: x*y + 10\n",
    "print(g(10, 5))"
   ]
  },
  {
   "cell_type": "markdown",
   "id": "a5052a48",
   "metadata": {},
   "source": [
    "### Generators or Lazy Functions\n",
    "special type of functioon that will not evaluate and return all values at once, insted it will return one value at a time and only one requested."
   ]
  },
  {
   "cell_type": "code",
   "execution_count": 44,
   "id": "2fe4504c",
   "metadata": {},
   "outputs": [
    {
     "name": "stdout",
     "output_type": "stream",
     "text": [
      "1 2 3 4 5 \n",
      "[1, 2, 3, 4, 5]\n"
     ]
    }
   ],
   "source": [
    "for b in range(1, 6):  # range is a pre defined generator\n",
    "    print(b, end=\" \")\n",
    "print()\n",
    "\n",
    "print(list(range(1, 6)))"
   ]
  },
  {
   "cell_type": "markdown",
   "id": "d1842418",
   "metadata": {},
   "source": [
    "### Creating a personal Generator"
   ]
  },
  {
   "cell_type": "code",
   "execution_count": 4,
   "id": "a43f5535",
   "metadata": {},
   "outputs": [
    {
     "name": "stdout",
     "output_type": "stream",
     "text": [
      "1 4 9 16 25 36 \n",
      "[1, 4, 9, 16, 25, 36]\n"
     ]
    }
   ],
   "source": [
    "# creating a generator (use yield insted of return)\n",
    "def squared(data):\n",
    "    for i in data:\n",
    "        yield i**2\n",
    "        \n",
    "#squared(data = [1,2,3,4,5,6]) # this will not give u result\n",
    "\n",
    "\n",
    "# this is how we use generator, getting 1 value at a time.\n",
    "for num in squared([1,2,3,4,5,6]):\n",
    "    print(num, end= \" \")\n",
    "print()\n",
    "    \n",
    "# or\n",
    "print(list(squared([1,2,3,4,5,6]))) # this calculates and convert all values to a list"
   ]
  },
  {
   "cell_type": "markdown",
   "id": "7b67dc83",
   "metadata": {},
   "source": [
    "## using functions from user-defined modules\n",
    "In python, you can create your own modules by defining functions in a separate file and then importing.\n",
    "\n",
    "### four ways to import a module:\n",
    "1. Import the entire module\n",
    "```\n",
    "import module_name\n",
    "```\n",
    "2. import a specific functions from a module:\n",
    "```\n",
    "from module_name import function1, function2\n",
    "```\n",
    "3. import all functions from a module:\n",
    "```\n",
    "from module_name import*\n",
    "```\n",
    "4. import a module with an alias:\n",
    "```\n",
    "import module_name as alias\n",
    "```"
   ]
  },
  {
   "cell_type": "code",
   "execution_count": 13,
   "id": "b1bc540b",
   "metadata": {},
   "outputs": [],
   "source": [
    "import helpeer"
   ]
  },
  {
   "cell_type": "code",
   "execution_count": 4,
   "id": "c9fb3780",
   "metadata": {},
   "outputs": [
    {
     "data": {
      "text/plain": [
       "314.2857142857143"
      ]
     },
     "execution_count": 4,
     "metadata": {},
     "output_type": "execute_result"
    }
   ],
   "source": [
    "helpeer.calAreaOfCircle(10)"
   ]
  },
  {
   "cell_type": "code",
   "execution_count": 14,
   "id": "b484d06e",
   "metadata": {},
   "outputs": [
    {
     "data": {
      "text/plain": [
       "314.2857142857143"
      ]
     },
     "execution_count": 14,
     "metadata": {},
     "output_type": "execute_result"
    }
   ],
   "source": [
    "helpeer.calAreaOfCircle(diameter=20)"
   ]
  },
  {
   "cell_type": "code",
   "execution_count": 16,
   "id": "c1c89b41",
   "metadata": {},
   "outputs": [
    {
     "name": "stdout",
     "output_type": "stream",
     "text": [
      "314.2857142857143\n",
      "314.2857142857143\n",
      "62.857142857142854\n"
     ]
    }
   ],
   "source": [
    "a = helpeer.calAreaOfCircle(10)\n",
    "b = helpeer.calAreaOfCircle(diameter=20)\n",
    "c = helpeer.calcCircumference(10)\n",
    "print(a, b, c, sep=\"\\n\")"
   ]
  },
  {
   "cell_type": "code",
   "execution_count": null,
   "id": "9e3d77bb",
   "metadata": {},
   "outputs": [],
   "source": [
    "import helpeer # import entire module\n",
    "import helpeer as h  # import with alias\n",
    "from helpeer import calAreaOfCircle     # import specific function \n",
    "from helpeer import *       # import all with direct usage\n",
    "\n"
   ]
  }
 ],
 "metadata": {
  "kernelspec": {
   "display_name": "Python 3",
   "language": "python",
   "name": "python3"
  },
  "language_info": {
   "codemirror_mode": {
    "name": "ipython",
    "version": 3
   },
   "file_extension": ".py",
   "mimetype": "text/x-python",
   "name": "python",
   "nbconvert_exporter": "python",
   "pygments_lexer": "ipython3",
   "version": "3.13.9"
  }
 },
 "nbformat": 4,
 "nbformat_minor": 5
}
