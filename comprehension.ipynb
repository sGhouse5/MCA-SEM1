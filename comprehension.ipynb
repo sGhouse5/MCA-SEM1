{
 "cells": [
  {
   "cell_type": "code",
   "execution_count": 1,
   "id": "39699240",
   "metadata": {},
   "outputs": [
    {
     "name": "stdout",
     "output_type": "stream",
     "text": [
      "['pushpa', 'kannappa', 'jinna', 'journey', 'littlehearts', 'court', 'luckybhasker', 'thammudu', 'santhosham', 'kalisundam raa', 'nuvu naku nachav', 'baby', '7/G brindavan colony', 'remo', 'orange', 'RX100', 'Arjun Reddy', 'mangalavaram']\n",
      "[6, 8, 5, 7, 12, 5, 12, 8, 10, 14, 16, 4, 20, 4, 6, 5, 11, 12]\n"
     ]
    }
   ],
   "source": [
    "movies = ['pushpa', 'kannappa', 'jinna', 'journey', 'littlehearts', 'court', 'luckybhasker', 'thammudu', 'santhosham', 'kalisundam raa', 'nuvu naku nachav', 'baby', '7/G brindavan colony', 'remo', 'orange', 'RX100', 'Arjun Reddy', 'mangalavaram']\n",
    "#WAP to create a new list and store the length as each movie\n",
    "\n",
    "movielen = []\n",
    "for movie in movies:\n",
    "    size = len(movie)\n",
    "    movielen.append(size)\n",
    "print(movies)\n",
    "print(movielen)\n"
   ]
  },
  {
   "cell_type": "code",
   "execution_count": 2,
   "id": "50d0380c",
   "metadata": {},
   "outputs": [
    {
     "name": "stdout",
     "output_type": "stream",
     "text": [
      "['pushpa', 'kannappa', 'jinna', 'journey', 'littlehearts', 'court', 'luckybhasker', 'thammudu', 'santhosham', 'kalisundam raa', 'nuvu naku nachav', 'baby', '7/G brindavan colony', 'remo', 'orange', 'RX100', 'Arjun Reddy', 'mangalavaram']\n",
      "[6, 8, 5, 7, 12, 5, 12, 8, 10, 14, 16, 4, 20, 4, 6, 5, 11, 12]\n"
     ]
    }
   ],
   "source": [
    "movies = ['pushpa', 'kannappa', 'jinna', 'journey', 'littlehearts', 'court', 'luckybhasker', 'thammudu', 'santhosham', 'kalisundam raa', 'nuvu naku nachav', 'baby', '7/G brindavan colony', 'remo', 'orange', 'RX100', 'Arjun Reddy', 'mangalavaram']\n",
    "#WAP to create a new list and store the length as each movie name\n",
    "movielen = [len(movie) for movie in movies]\n",
    "print(movies)\n",
    "print(movielen)"
   ]
  },
  {
   "cell_type": "code",
   "execution_count": 2,
   "id": "d22e7ea0",
   "metadata": {},
   "outputs": [
    {
     "name": "stdout",
     "output_type": "stream",
     "text": [
      "['pushpa', 'kannappa', 'jinna', 'journey', 'littlehearts', 'court', 'luckybhasker', 'thammudu', 'santhosham', 'kalisundam raa', 'nuvu naku nachav', 'baby', '7/G brindavan colony', 'remo', 'orange', 'RX100', 'Arjun Reddy', 'mangalavaram']\n",
      "['PUSHPA', 'KANNAPPA', 'JINNA', 'JOURNEY', 'LITTLEHEARTS', 'COURT', 'LUCKYBHASKER', 'THAMMUDU', 'SANTHOSHAM', 'KALISUNDAM RAA', 'NUVU NAKU NACHAV', 'BABY', '7/G BRINDAVAN COLONY', 'REMO', 'ORANGE', 'RX100', 'ARJUN REDDY', 'MANGALAVARAM']\n"
     ]
    }
   ],
   "source": [
    "movies = ['pushpa', 'kannappa', 'jinna', 'journey', 'littlehearts', 'court', 'luckybhasker', 'thammudu', 'santhosham', 'kalisundam raa', 'nuvu naku nachav', 'baby', '7/G brindavan colony', 'remo', 'orange', 'RX100', 'Arjun Reddy', 'mangalavaram']\n",
    "#WAP to create a new list from movies but with all capital letters\n",
    "capmovies = []\n",
    "for movie in movies:\n",
    "    cap = movie.upper()\n",
    "    capmovies.append(cap)\n",
    "    \n",
    "print(movies)\n",
    "print(capmovies)"
   ]
  },
  {
   "cell_type": "code",
   "execution_count": 3,
   "id": "3a09408f",
   "metadata": {},
   "outputs": [
    {
     "name": "stdout",
     "output_type": "stream",
     "text": [
      "['PUSHPA', 'KANNAPPA', 'JINNA', 'JOURNEY', 'LITTLEHEARTS', 'COURT', 'LUCKYBHASKER', 'THAMMUDU', 'SANTHOSHAM', 'KALISUNDAM RAA', 'NUVU NAKU NACHAV', 'BABY', '7/G BRINDAVAN COLONY', 'REMO', 'ORANGE', 'RX100', 'ARJUN REDDY', 'MANGALAVARAM']\n"
     ]
    }
   ],
   "source": [
    "movies = ['pushpa', 'kannappa', 'jinna', 'journey', 'littlehearts', 'court', 'luckybhasker', 'thammudu', 'santhosham', 'kalisundam raa', 'nuvu naku nachav', 'baby', '7/G brindavan colony', 'remo', 'orange', 'RX100', 'Arjun Reddy', 'mangalavaram']\n",
    "#WAP to create a new list from movies but with all capital letters\n",
    "capmovies = [movie.upper() for movie in movies]\n",
    "print(capmovies)"
   ]
  },
  {
   "cell_type": "code",
   "execution_count": 4,
   "id": "86f756d4",
   "metadata": {},
   "outputs": [
    {
     "name": "stdout",
     "output_type": "stream",
     "text": [
      "['journey', 'court', 'santhosham', '7/G brindavan colony', 'remo', 'orange']\n"
     ]
    }
   ],
   "source": [
    "#Filter the movies that contain the character 'o' and store in new list\n",
    "movies_with_o = []\n",
    "for item in movies:\n",
    "    if 'o' in item or 'O' in item:\n",
    "        movies_with_o.append(item)\n",
    "print(movies_with_o)\n",
    "        "
   ]
  },
  {
   "cell_type": "code",
   "execution_count": 5,
   "id": "544cfeab",
   "metadata": {},
   "outputs": [
    {
     "name": "stdout",
     "output_type": "stream",
     "text": [
      "['journey', 'court', 'santhosham', '7/G brindavan colony', 'remo', 'orange']\n"
     ]
    }
   ],
   "source": [
    "movies_with_o = [item for item in movies if 'o' in item or 'O' in item ]\n",
    "print(movies_with_o)"
   ]
  }
 ],
 "metadata": {
  "kernelspec": {
   "display_name": "Python 3",
   "language": "python",
   "name": "python3"
  },
  "language_info": {
   "codemirror_mode": {
    "name": "ipython",
    "version": 3
   },
   "file_extension": ".py",
   "mimetype": "text/x-python",
   "name": "python",
   "nbconvert_exporter": "python",
   "pygments_lexer": "ipython3",
   "version": "3.13.7"
  }
 },
 "nbformat": 4,
 "nbformat_minor": 5
}
