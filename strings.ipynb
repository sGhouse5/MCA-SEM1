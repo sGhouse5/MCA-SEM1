{
 "cells": [
  {
   "cell_type": "code",
   "execution_count": null,
   "id": "d8616ae4",
   "metadata": {},
   "outputs": [
    {
     "name": "stdout",
     "output_type": "stream",
     "text": [
      "mna pant hello\n",
      "world\n"
     ]
    }
   ],
   "source": [
    "#Types in Comments\n",
    "a = 'man'\n",
    "b = \"pant\"\n",
    "c = '''hello\n",
    "world'''\n",
    "\n",
    "print(a,b,c)"
   ]
  },
  {
   "cell_type": "code",
   "execution_count": 6,
   "id": "b43f2f29",
   "metadata": {},
   "outputs": [
    {
     "name": "stdout",
     "output_type": "stream",
     "text": [
      "['ant', 'man', 'sat'] <class 'str'>\n",
      "10 <class 'str'>\n"
     ]
    }
   ],
   "source": [
    "#TypeCasting\n",
    "x = str(10)\n",
    "y = str([\"ant\", \"man\", \"sat\"])\n",
    "print(y, type(y))\n",
    "print(x, type(x))"
   ]
  },
  {
   "cell_type": "code",
   "execution_count": 7,
   "id": "a0bbfe15",
   "metadata": {},
   "outputs": [
    {
     "name": "stdout",
     "output_type": "stream",
     "text": [
      "the point is, I am not disappointed\n"
     ]
    }
   ],
   "source": [
    "x = 'disappointed'\n",
    "y = x[5:10]\n",
    "print(f\"the {y} is, I am not {x}\")"
   ]
  },
  {
   "cell_type": "code",
   "execution_count": 8,
   "id": "ab936e3f",
   "metadata": {},
   "outputs": [
    {
     "name": "stdout",
     "output_type": "stream",
     "text": [
      " Twinkle, twinkle, little star, how I wonder what you are. Up above the world so high,\n"
     ]
    }
   ],
   "source": [
    "poem = ''' Twinkle, twinkle, little star, how I wonder what you are. Up above the world so high,\n",
    "like a diamond in the sky. Twinkle, twinkle, little star, how I wonder what you are.\n",
    "When the blazing sun is set, and the grass with dew is wet. Then you show your little\n",
    "light, twinkle, twinkle all the night. Twinkle, twinkle little star, how I wonder what you\n",
    "are.\n",
    "Then the traveler in the dark thanks you for your tiny spark. How could he see where to\n",
    "go if you did not twinkle so? Twinkle, twinkle little star, how I wonder what you are.\n",
    "As your bright and tiny spark lights the traveler in the dark, though I know not what you\n",
    "are, twinkle, twinkle, little star. Twinkle, twinkle, little star, how I wonder what you are '''\n",
    "x = poem[:86]\n",
    "print(x)"
   ]
  }
 ],
 "metadata": {
  "kernelspec": {
   "display_name": "Python 3",
   "language": "python",
   "name": "python3"
  },
  "language_info": {
   "codemirror_mode": {
    "name": "ipython",
    "version": 3
   },
   "file_extension": ".py",
   "mimetype": "text/x-python",
   "name": "python",
   "nbconvert_exporter": "python",
   "pygments_lexer": "ipython3",
   "version": "3.13.7"
  }
 },
 "nbformat": 4,
 "nbformat_minor": 5
}
