{
 "cells": [
  {
   "cell_type": "code",
   "execution_count": null,
   "id": "99eac21c",
   "metadata": {},
   "outputs": [],
   "source": []
  },
  {
   "cell_type": "code",
   "execution_count": null,
   "id": "7182ec6a",
   "metadata": {},
   "outputs": [
    {
     "name": "stdout",
     "output_type": "stream",
     "text": [
      "['c', 'a', 't']\n",
      "['c', 'a', 't']\n",
      "['c', 'a', 't']\n",
      "['c', 'a', 't']\n",
      "shake\n",
      "liam\n",
      "william  shakespeare\n",
      "SaahCiiea\n",
      "SaahCiiea\n",
      "hrt htkl\n"
     ]
    }
   ],
   "source": [
    "x = ['e','d','u','c','a','t','i','o','n']\n",
    "print(x[3:6])\n",
    "print(x[-6:-3])\n",
    "print(x[3:-3])\n",
    "print(x[-6:6])\n",
    "\n",
    "name1 = \"william shakespare\"\n",
    "print(name1[8:-6])\n",
    "print(name1[3:7])\n",
    "fname = name1[0:8]\n",
    "lname = name1[8:]\n",
    "print(fname,lname)\n",
    "\n",
    "name = \"Sharath Chitikela\"\n",
    "print(name[0:len(name):2])\n",
    "print(name[::2]) #even item\n",
    "print(name[1::2]) #odd item"
   ]
  },
  {
   "cell_type": "code",
   "execution_count": null,
   "id": "bdd2ce62",
   "metadata": {},
   "outputs": [],
   "source": []
  },
  {
   "cell_type": "code",
   "execution_count": null,
   "id": "4d74d2ca",
   "metadata": {},
   "outputs": [],
   "source": []
  }
 ],
 "metadata": {
  "kernelspec": {
   "display_name": "Python 3",
   "language": "python",
   "name": "python3"
  },
  "language_info": {
   "codemirror_mode": {
    "name": "ipython",
    "version": 3
   },
   "file_extension": ".py",
   "mimetype": "text/x-python",
   "name": "python",
   "nbconvert_exporter": "python",
   "pygments_lexer": "ipython3",
   "version": "3.13.7"
  }
 },
 "nbformat": 4,
 "nbformat_minor": 5
}
