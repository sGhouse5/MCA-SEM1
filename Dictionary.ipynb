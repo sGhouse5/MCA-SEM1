{
 "cells": [
  {
   "cell_type": "code",
   "execution_count": null,
   "id": "d169c619",
   "metadata": {},
   "outputs": [],
   "source": [
    "# Dictionary \n",
    "\"\"\"two ways to store data in python\n",
    "    1. List -> index based\n",
    "    2. Dictionary -> key value pair\"\"\"\n",
    "    \n",
    "Data = [\"Ghouse\", \"sghouse77801@gmail.com\", \"Kurnool\"]\n",
    "\n",
    "\n"
   ]
  },
  {
   "cell_type": "code",
   "execution_count": 3,
   "id": "1cb117b9",
   "metadata": {},
   "outputs": [
    {
     "name": "stdout",
     "output_type": "stream",
     "text": [
      "{} {}\n",
      "<class 'dict'> <class 'dict'>\n"
     ]
    }
   ],
   "source": [
    "#creating a dictionary\n",
    "d1 = {}\n",
    "d2 = dict()\n",
    "print(d1, d2)\n",
    "print(type(d1), type(d2))"
   ]
  },
  {
   "cell_type": "code",
   "execution_count": 5,
   "id": "885ba00d",
   "metadata": {},
   "outputs": [
    {
     "name": "stdout",
     "output_type": "stream",
     "text": [
      "{'color': 'orange', 'shape': 'circle', 'size': '2 meter', 'material': 'plastic'}\n"
     ]
    }
   ],
   "source": [
    "d3 = {\"color\":'orange',\n",
    "      'shape':'circle',\n",
    "      \"size\":\"2 meter\",\n",
    "      'material' :'plastic'}\n",
    "print(d3)"
   ]
  },
  {
   "cell_type": "code",
   "execution_count": 9,
   "id": "109cddbb",
   "metadata": {},
   "outputs": [
    {
     "name": "stdout",
     "output_type": "stream",
     "text": [
      "{'fact1': 'All Keys in a dictionary should be unique', 'fact2': 'keys are immutables so only strings and tuples are allowed as keys', 'fact3': 'value of key can be of any type -> str, num, list, tuple, dict'}\n"
     ]
    }
   ],
   "source": [
    "info = {\n",
    "    'fact1' : 'All Keys in a dictionary should be unique',\n",
    "    'fact2' : 'keys are immutables so only strings and tuples are allowed as keys',\n",
    "    'fact3' : 'value of key can be of any type -> str, num, list, tuple, dict'\n",
    "}\n",
    "print(info)"
   ]
  },
  {
   "cell_type": "code",
   "execution_count": 18,
   "id": "a685fdaf",
   "metadata": {},
   "outputs": [
    {
     "name": "stdout",
     "output_type": "stream",
     "text": [
      "{'name': 'Mobile', 'Price': 79999, 'Features': {'Camera': '48 MP', 'OS': 18, 'Ram': '8 gb'}, 'brand': 'Apple', 'model': 'Iphone 18', 'Popular': True, 'Value for money': False, 'colors': ['orange', 'black', 'blue', 'white']}\n",
      "Mobile\n",
      "18\n"
     ]
    }
   ],
   "source": [
    "product = {\n",
    "    'name' : 'Mobile',\n",
    "    'Price' : 79999,\n",
    "    'Features' : {'Camera' : '48 MP', 'OS' : 18, 'Ram' : '8 gb'},\n",
    "    'brand' : 'Apple',\n",
    "    'model' : \"Iphone 18\",\n",
    "    'Popular' : True,\n",
    "    'Value for money' : False,\n",
    "    'colors' : ['orange', 'black', \"blue\", 'white']\n",
    "}\n",
    "print(product)\n",
    "print(product[\"name\"])\n",
    "print(product[\"Features\"][\"OS\"])"
   ]
  },
  {
   "cell_type": "code",
   "execution_count": 19,
   "id": "24cf3df2",
   "metadata": {},
   "outputs": [
    {
     "name": "stdout",
     "output_type": "stream",
     "text": [
      "dict_keys(['name', 'Price', 'Features', 'brand', 'model', 'Popular', 'Value for money', 'colors'])\n",
      "dict_values(['Mobile', 79999, {'Camera': '48 MP', 'OS': 18, 'Ram': '8 gb'}, 'Apple', 'Iphone 18', True, False, ['orange', 'black', 'blue', 'white']])\n",
      "dict_items([('name', 'Mobile'), ('Price', 79999), ('Features', {'Camera': '48 MP', 'OS': 18, 'Ram': '8 gb'}), ('brand', 'Apple'), ('model', 'Iphone 18'), ('Popular', True), ('Value for money', False), ('colors', ['orange', 'black', 'blue', 'white'])])\n"
     ]
    }
   ],
   "source": [
    "#DIctionary functions\n",
    "product = {\n",
    "    'name' : 'Mobile',\n",
    "    'Price' : 79999,\n",
    "    'Features' : {'Camera' : '48 MP', 'OS' : 18, 'Ram' : '8 gb'},\n",
    "    'brand' : 'Apple',\n",
    "    'model' : \"Iphone 18\",\n",
    "    'Popular' : True,\n",
    "    'Value for money' : False,\n",
    "    'colors' : ['orange', 'black', \"blue\", 'white']\n",
    "}\n",
    "\n",
    "print(product.keys())\n",
    "print(product.values())\n",
    "print(product.items())\n"
   ]
  },
  {
   "cell_type": "code",
   "execution_count": null,
   "id": "b9d8f48f",
   "metadata": {},
   "outputs": [
    {
     "name": "stdout",
     "output_type": "stream",
     "text": [
      "Mobile\n",
      "Mobile\n",
      "None\n"
     ]
    }
   ],
   "source": [
    "#DIctionary extraction ways\n",
    "product = {\n",
    "    'name' : 'Mobile',\n",
    "    'Price' : 79999,\n",
    "    'Features' : {'Camera' : '48 MP', 'OS' : 18, 'Ram' : '8 gb'},\n",
    "    'brand' : 'Apple',\n",
    "    'model' : \"Iphone 18\",\n",
    "    'Popular' : True,\n",
    "    'Value for money' : False,\n",
    "    'colors' : ['orange', 'black', \"blue\", 'white']\n",
    "}\n",
    "\n",
    "print(product[\"name\"])\n",
    "#print(product[\"OS\"]) # in This way if no key found, python rises error\n",
    "print(product.get(\"name\"))\n",
    "print(product.get(\"OS\")) # in This way if no key found, no error rises"
   ]
  },
  {
   "cell_type": "code",
   "execution_count": 22,
   "id": "d12b27f4",
   "metadata": {},
   "outputs": [
    {
     "name": "stdout",
     "output_type": "stream",
     "text": [
      "999999\n"
     ]
    }
   ],
   "source": [
    "#re-assigning values\n",
    "product = {\n",
    "    'name' : 'Mobile',\n",
    "    'Price' : 79999,\n",
    "    'Features' : {'Camera' : '48 MP', 'OS' : 18, 'Ram' : '8 gb'},\n",
    "    'brand' : 'Apple',\n",
    "    'model' : \"Iphone 18\",\n",
    "    'Popular' : True,\n",
    "    'Value for money' : False,\n",
    "    'colors' : ['orange', 'black', \"blue\", 'white']\n",
    "}\n",
    "\n",
    "product[\"Price\"] = 999999\n",
    "\n",
    "print(product[\"Price\"])"
   ]
  },
  {
   "cell_type": "code",
   "execution_count": 24,
   "id": "e7632d7a",
   "metadata": {},
   "outputs": [
    {
     "name": "stdout",
     "output_type": "stream",
     "text": [
      "{'name': 'William Shakespear'}\n",
      "{'name': 'William Shakespear', 'book': ['Julias Ceaser', 'Merchant of venci']}\n",
      "{'name': 'William Shakespear', 'book': ['Julias Ceaser', 'Merchant of venci'], 'born': 'Aprial 8126', 'Overview': 'A English playwrite, Poet and actor.\\nRegards as the greatest writer in English'}\n"
     ]
    }
   ],
   "source": [
    "# adding data to dictionary\n",
    "d['name'] = \"William Shakespear\"\n",
    "print(d)\n",
    "d['book'] = ['Julias Ceaser', 'Merchant of venci']\n",
    "print(d)\n",
    "d['born'] = \"Aprial 1154\"\n",
    "d['born'] = \"Aprial 8126\"\n",
    "d['Overview'] = '''A English playwrite, Poet and actor.\n",
    "Regards as the greatest writer in English'''\n",
    "print(d)\n",
    "\n"
   ]
  },
  {
   "cell_type": "code",
   "execution_count": 1,
   "id": "a4694c21",
   "metadata": {},
   "outputs": [
    {
     "name": "stdout",
     "output_type": "stream",
     "text": [
      "contact Book\n",
      "search contact\n",
      "contact not foundd\n",
      "Sucess, contact added\n",
      "Bye\n",
      "search contact\n",
      "contact found\n",
      "sgm 45\n",
      "Bye\n",
      "search contact\n"
     ]
    },
    {
     "ename": "KeyboardInterrupt",
     "evalue": "Interrupted by user",
     "output_type": "error",
     "traceback": [
      "\u001b[31m---------------------------------------------------------------------------\u001b[39m",
      "\u001b[31mKeyboardInterrupt\u001b[39m                         Traceback (most recent call last)",
      "\u001b[36mCell\u001b[39m\u001b[36m \u001b[39m\u001b[32mIn[1]\u001b[39m\u001b[32m, line 7\u001b[39m\n\u001b[32m      5\u001b[39m \u001b[38;5;28;01mwhile\u001b[39;00m \u001b[38;5;28;01mTrue\u001b[39;00m:\n\u001b[32m      6\u001b[39m     \u001b[38;5;28mprint\u001b[39m(\u001b[33m\"\u001b[39m\u001b[33msearch contact\u001b[39m\u001b[33m\"\u001b[39m)\n\u001b[32m----> \u001b[39m\u001b[32m7\u001b[39m     name = \u001b[38;5;28;43minput\u001b[39;49m\u001b[43m(\u001b[49m\u001b[33;43m\"\u001b[39;49m\u001b[33;43mEnter Name : \u001b[39;49m\u001b[33;43m\"\u001b[39;49m\u001b[43m)\u001b[49m\n\u001b[32m      8\u001b[39m     \u001b[38;5;28;01mif\u001b[39;00m name \u001b[38;5;129;01min\u001b[39;00m contacts:\n\u001b[32m      9\u001b[39m         \u001b[38;5;28mprint\u001b[39m(\u001b[33m\"\u001b[39m\u001b[33mcontact found\u001b[39m\u001b[33m\"\u001b[39m)\n",
      "\u001b[36mFile \u001b[39m\u001b[32mc:\\Users\\sghou\\AppData\\Local\\Programs\\Python\\Python313\\Lib\\site-packages\\ipykernel\\kernelbase.py:1275\u001b[39m, in \u001b[36mKernel.raw_input\u001b[39m\u001b[34m(self, prompt)\u001b[39m\n\u001b[32m   1273\u001b[39m     msg = \u001b[33m\"\u001b[39m\u001b[33mraw_input was called, but this frontend does not support input requests.\u001b[39m\u001b[33m\"\u001b[39m\n\u001b[32m   1274\u001b[39m     \u001b[38;5;28;01mraise\u001b[39;00m StdinNotImplementedError(msg)\n\u001b[32m-> \u001b[39m\u001b[32m1275\u001b[39m \u001b[38;5;28;01mreturn\u001b[39;00m \u001b[38;5;28;43mself\u001b[39;49m\u001b[43m.\u001b[49m\u001b[43m_input_request\u001b[49m\u001b[43m(\u001b[49m\n\u001b[32m   1276\u001b[39m \u001b[43m    \u001b[49m\u001b[38;5;28;43mstr\u001b[39;49m\u001b[43m(\u001b[49m\u001b[43mprompt\u001b[49m\u001b[43m)\u001b[49m\u001b[43m,\u001b[49m\n\u001b[32m   1277\u001b[39m \u001b[43m    \u001b[49m\u001b[38;5;28;43mself\u001b[39;49m\u001b[43m.\u001b[49m\u001b[43m_parent_ident\u001b[49m\u001b[43m[\u001b[49m\u001b[33;43m\"\u001b[39;49m\u001b[33;43mshell\u001b[39;49m\u001b[33;43m\"\u001b[39;49m\u001b[43m]\u001b[49m\u001b[43m,\u001b[49m\n\u001b[32m   1278\u001b[39m \u001b[43m    \u001b[49m\u001b[38;5;28;43mself\u001b[39;49m\u001b[43m.\u001b[49m\u001b[43mget_parent\u001b[49m\u001b[43m(\u001b[49m\u001b[33;43m\"\u001b[39;49m\u001b[33;43mshell\u001b[39;49m\u001b[33;43m\"\u001b[39;49m\u001b[43m)\u001b[49m\u001b[43m,\u001b[49m\n\u001b[32m   1279\u001b[39m \u001b[43m    \u001b[49m\u001b[43mpassword\u001b[49m\u001b[43m=\u001b[49m\u001b[38;5;28;43;01mFalse\u001b[39;49;00m\u001b[43m,\u001b[49m\n\u001b[32m   1280\u001b[39m \u001b[43m\u001b[49m\u001b[43m)\u001b[49m\n",
      "\u001b[36mFile \u001b[39m\u001b[32mc:\\Users\\sghou\\AppData\\Local\\Programs\\Python\\Python313\\Lib\\site-packages\\ipykernel\\kernelbase.py:1320\u001b[39m, in \u001b[36mKernel._input_request\u001b[39m\u001b[34m(self, prompt, ident, parent, password)\u001b[39m\n\u001b[32m   1317\u001b[39m \u001b[38;5;28;01mexcept\u001b[39;00m \u001b[38;5;167;01mKeyboardInterrupt\u001b[39;00m:\n\u001b[32m   1318\u001b[39m     \u001b[38;5;66;03m# re-raise KeyboardInterrupt, to truncate traceback\u001b[39;00m\n\u001b[32m   1319\u001b[39m     msg = \u001b[33m\"\u001b[39m\u001b[33mInterrupted by user\u001b[39m\u001b[33m\"\u001b[39m\n\u001b[32m-> \u001b[39m\u001b[32m1320\u001b[39m     \u001b[38;5;28;01mraise\u001b[39;00m \u001b[38;5;167;01mKeyboardInterrupt\u001b[39;00m(msg) \u001b[38;5;28;01mfrom\u001b[39;00m\u001b[38;5;250m \u001b[39m\u001b[38;5;28;01mNone\u001b[39;00m\n\u001b[32m   1321\u001b[39m \u001b[38;5;28;01mexcept\u001b[39;00m \u001b[38;5;167;01mException\u001b[39;00m:\n\u001b[32m   1322\u001b[39m     \u001b[38;5;28mself\u001b[39m.log.warning(\u001b[33m\"\u001b[39m\u001b[33mInvalid Message:\u001b[39m\u001b[33m\"\u001b[39m, exc_info=\u001b[38;5;28;01mTrue\u001b[39;00m)\n",
      "\u001b[31mKeyboardInterrupt\u001b[39m: Interrupted by user"
     ]
    }
   ],
   "source": [
    "contacts = {\n",
    "    'emergency' : 108,\n",
    "}\n",
    "print('contact Book')\n",
    "while True:\n",
    "    print(\"search contact\")\n",
    "    name = input(\"Enter Name : \")\n",
    "    if name in contacts:\n",
    "        print(\"contact found\")\n",
    "        print(name, contacts.get(name))\n",
    "    else:\n",
    "        print(\"contact not foundd\")\n",
    "        ch = input(\"Do you want to add it? Y/N\")\n",
    "        if ch == 'Y':\n",
    "            num = input(\"Enter {name}'s number : \")\n",
    "            contacts[name] = num \n",
    "            print(\"Sucess, contact added\")\n",
    "        else:\n",
    "            print(\"OKay\")\n",
    "    quit = input(\"Do you want to continue Y/N\")\n",
    "    if quit == 'Y' or quit == 'y':\n",
    "        print(\"Bye\")\n"
   ]
  }
 ],
 "metadata": {
  "kernelspec": {
   "display_name": "Python 3",
   "language": "python",
   "name": "python3"
  },
  "language_info": {
   "codemirror_mode": {
    "name": "ipython",
    "version": 3
   },
   "file_extension": ".py",
   "mimetype": "text/x-python",
   "name": "python",
   "nbconvert_exporter": "python",
   "pygments_lexer": "ipython3",
   "version": "3.13.7"
  }
 },
 "nbformat": 4,
 "nbformat_minor": 5
}
