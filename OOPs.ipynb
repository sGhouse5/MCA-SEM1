{
 "cells": [
  {
   "cell_type": "code",
   "execution_count": null,
   "id": "cc1ca654",
   "metadata": {},
   "outputs": [],
   "source": [
    "class Bottle:\n",
    "    color = \"\"\n",
    "    height = \"\"\n",
    "    size = \"\"\n",
    "    shape = \"\"\n",
    "    cap = \"\"\n",
    "    material = \"\"\n",
    "    quality = \"\"\n",
    "    volume = 0\n",
    "    price = 0\n",
    "    brand = \"\"\n",
    "    "
   ]
  },
  {
   "cell_type": "code",
   "execution_count": null,
   "id": "9e73ad34",
   "metadata": {},
   "outputs": [
    {
     "name": "stdout",
     "output_type": "stream",
     "text": [
      "<class '__main__.Polygon'>\n",
      "<__main__.Polygon object at 0x000001EBA90BD2B0>\n",
      "0\n",
      "3\n"
     ]
    }
   ],
   "source": [
    "class Polygon:\n",
    "    side = 0\n",
    "    \n",
    "triangle = Polygon() #object creation instance\n",
    "triangle.side = 3  #atttribute setting\n",
    "\n",
    "print(Polygon)\n",
    "print(triangle)\n",
    "print(Polygon.side)\n",
    "print(triangle.side)\n",
    "#student, emp., tv, laptop, fridege write 5 classes"
   ]
  },
  {
   "cell_type": "markdown",
   "id": "37b19c1b",
   "metadata": {},
   "source": [
    "### Student class"
   ]
  },
  {
   "cell_type": "code",
   "execution_count": null,
   "id": "c919cb5f",
   "metadata": {},
   "outputs": [],
   "source": [
    "class Student:\n",
    "    name = \"\"\n",
    "    id = 0\n",
    "    group = \"\"\n",
    "    \n",
    "    \n",
    "    \n",
    "me = Student()\n",
    "me.name = \"SGM\"\n",
    "me.id = 65\n",
    "me.group = \"MCA\""
   ]
  },
  {
   "cell_type": "code",
   "execution_count": null,
   "id": "30502545",
   "metadata": {},
   "outputs": [],
   "source": [
    "class Employe:\n",
    "    name = \"\"\n",
    "    id = 0\n",
    "    role = \"\"\n",
    "\n",
    "me = Employe()\n",
    "me.name = \"SGM\"\n",
    "id = 65\n",
    "role = \"Developer\""
   ]
  },
  {
   "cell_type": "code",
   "execution_count": null,
   "id": "cf854e20",
   "metadata": {},
   "outputs": [],
   "source": [
    "class Tv:\n",
    "    brand = \"\"\n",
    "    screen_size = \"\"\n",
    "    resolution = \"hd\"\n",
    "    price = 20000\n",
    "    \n",
    "my = Tv()\n",
    "my.brand = \"samsung\"\n",
    "my.screen_size = 22"
   ]
  },
  {
   "cell_type": "code",
   "execution_count": 1,
   "id": "3a4c97a0",
   "metadata": {},
   "outputs": [
    {
     "name": "stdout",
     "output_type": "stream",
     "text": [
      "<__main__.Laptop object at 0x000001289511D2B0>\n"
     ]
    }
   ],
   "source": [
    "class Laptop:\n",
    "    brand = \"hp\"\n",
    "    processor = \"64\"\n",
    "    ram = \"12\"\n",
    "    storage = \"256\"\n",
    "    price = 80000\n",
    "\n",
    "print(Laptop())"
   ]
  },
  {
   "cell_type": "code",
   "execution_count": 7,
   "id": "ca2c4403",
   "metadata": {},
   "outputs": [],
   "source": [
    "class Fridge:\n",
    "    brand = \"samsung\"\n",
    "    capacity = 80\n",
    "    door_type = \"single\"\n",
    "    rating = 3.5\n",
    "    price = 40000\n",
    "    \n",
    "    "
   ]
  },
  {
   "cell_type": "markdown",
   "id": "d77a9dd3",
   "metadata": {},
   "source": [
    "### without constructor"
   ]
  },
  {
   "cell_type": "code",
   "execution_count": 15,
   "id": "d9b8ccbb",
   "metadata": {},
   "outputs": [
    {
     "name": "stdout",
     "output_type": "stream",
     "text": [
      "sgm\n",
      "pot\n",
      "pot\n"
     ]
    }
   ],
   "source": [
    "class Area:\n",
    "    len = 5\n",
    "    bth = 10\n",
    "    def show(self):\n",
    "        print(self.name)\n",
    "    def calc(self):\n",
    "        ans = self.len * self.bth\n",
    "        return ans, self.name\n",
    "\n",
    "a = Area()\n",
    "a.name = \"sgm\"\n",
    "a.show()\n",
    "a.calc()\n",
    "a.name = \"pot\"\n",
    "a.show()\n",
    "a.calc()\n",
    "print(a.name)"
   ]
  },
  {
   "cell_type": "markdown",
   "id": "fc438a8c",
   "metadata": {},
   "source": []
  },
  {
   "cell_type": "markdown",
   "id": "8ae438e5",
   "metadata": {},
   "source": [
    "### using constructor"
   ]
  },
  {
   "cell_type": "code",
   "execution_count": 49,
   "id": "fb95ac95",
   "metadata": {},
   "outputs": [],
   "source": [
    "class Area2:\n",
    "    def __init__(self, len, bth):\n",
    "        self.l = len\n",
    "        self.b = bth\n",
    "    def calc(self):\n",
    "        ans = self.l * self.b\n",
    "        print(self.l)\n",
    "        return ans\n"
   ]
  },
  {
   "cell_type": "markdown",
   "id": "355c0c58",
   "metadata": {},
   "source": [
    "### without constructor example"
   ]
  },
  {
   "cell_type": "code",
   "execution_count": 44,
   "id": "d1109334",
   "metadata": {},
   "outputs": [
    {
     "name": "stdout",
     "output_type": "stream",
     "text": [
      "5 5 25\n"
     ]
    }
   ],
   "source": [
    "o1 = Area()\n",
    "o1.len = 5\n",
    "o1.bth = 5\n",
    "res = o1.calc()\n",
    "print(o1.len, o1.bth, res)"
   ]
  },
  {
   "cell_type": "markdown",
   "id": "cbb40128",
   "metadata": {},
   "source": [
    "### constructor example"
   ]
  },
  {
   "cell_type": "code",
   "execution_count": 42,
   "id": "0fa086c0",
   "metadata": {},
   "outputs": [
    {
     "name": "stdout",
     "output_type": "stream",
     "text": [
      "5 5\n"
     ]
    }
   ],
   "source": [
    "o2 = Area2(5,5)\n",
    "print(o2.len, o2.bth)"
   ]
  },
  {
   "cell_type": "code",
   "execution_count": 18,
   "id": "c2a666ba",
   "metadata": {},
   "outputs": [
    {
     "name": "stdout",
     "output_type": "stream",
     "text": [
      "5\n"
     ]
    }
   ],
   "source": [
    "class mental:\n",
    "    def ooh(self):\n",
    "        self.a = 5\n",
    "        self.b = 10\n",
    "        return self.a * self.b\n",
    "\n",
    "ok = mental()\n",
    "ok.ooh()\n",
    "print(ok.a)"
   ]
  },
  {
   "cell_type": "code",
   "execution_count": 5,
   "id": "a03dbeb3",
   "metadata": {},
   "outputs": [
    {
     "name": "stdout",
     "output_type": "stream",
     "text": [
      "10\n",
      "10\n"
     ]
    }
   ],
   "source": [
    "class Area2:\n",
    "    def __init__(self):\n",
    "        pass\n",
    "    def calc(self):\n",
    "        self.l = 10\n",
    "        self.b = 5\n",
    "        ans = self.l * self.b\n",
    "        print(self.l)\n",
    "        return ans\n",
    "no = Area2()\n",
    "no.calc()\n",
    "print(no.l)"
   ]
  },
  {
   "cell_type": "code",
   "execution_count": null,
   "id": "6c5be423",
   "metadata": {},
   "outputs": [
    {
     "name": "stdout",
     "output_type": "stream",
     "text": [
      "********************\n",
      "The dog Details\n",
      "Breed:  Golden Retriever\n",
      "Color:  Golden\n",
      "Age:  3 \n",
      "\n",
      "********************\n",
      "The dog Details\n",
      "Breed:  Dalmatian\n",
      "Color:  Black&White\n",
      "Age:  5 \n",
      "\n",
      "********************\n",
      "The dog Details\n",
      "Breed:  Pitbull\n",
      "Color:  Grey\n",
      "Age:  3 \n",
      "\n",
      "********************\n",
      "The dog Details\n",
      "Breed:  Labrador\n",
      "Color:  Golden\n",
      "Age:  4 \n",
      "\n"
     ]
    }
   ],
   "source": [
    "class Dog:\n",
    "    def __init__(self, breed, color, age):\n",
    "        self.breed = breed\n",
    "        self.color = color\n",
    "        self.age = age\n",
    "        self.older = older\n",
    "        \n",
    "    def show(self):\n",
    "        print(\"*\" * 20)\n",
    "        print(\"The dog Details\")\n",
    "        print(\"Breed: \", self.breed)\n",
    "        print(\"Color: \", self.color)\n",
    "        print(\"Age: \", self.age, \"\\n\")\n",
    "        \n",
    "\n",
    "        \n",
    "bruno = Dog('Golden Retriever', 'Golden', 3)\n",
    "buddy = Dog('Dalmatian', 'Black&White', 5)\n",
    "sammy = Dog('Pitbull', 'Grey', 3)\n",
    "alex = Dog('Labrador', 'Golden', 4)\n",
    "\n",
    "bruno.show()\n",
    "buddy.show()\n",
    "sammy.show()\n",
    "alex.show()"
   ]
  },
  {
   "cell_type": "code",
   "execution_count": 37,
   "id": "b2cb3d80",
   "metadata": {},
   "outputs": [
    {
     "name": "stdout",
     "output_type": "stream",
     "text": [
      "********************\n",
      "The dog Details\n",
      "Breed:  Dalmatian\n",
      "Color:  Black&White\n",
      "Age:  5 \n",
      "\n"
     ]
    }
   ],
   "source": [
    "def find_oldest_dog(doglist):\n",
    "        old_dog = 0\n",
    "        oldest_dog = \"\"\n",
    "        for dog in doglist:\n",
    "            if old_dog < dog.age:\n",
    "                old_dog = dog.age\n",
    "                oldest_dog = dog\n",
    "        return oldest_dog\n",
    "    \n",
    "doglist = [bruno, sammy, alex, buddy]\n",
    "\n",
    "oldest_dog_is = find_oldest_dog(doglist)\n",
    "\n",
    "oldest_dog_is.show()\n"
   ]
  },
  {
   "cell_type": "code",
   "execution_count": 3,
   "id": "16914b04",
   "metadata": {},
   "outputs": [
    {
     "name": "stdout",
     "output_type": "stream",
     "text": [
      "All available dragons\n",
      "1. water Dragon\n",
      "2. fire Dragon\n",
      "3. ice Dragon\n"
     ]
    }
   ],
   "source": [
    "class Dragon:\n",
    "    def __init__(self, type):\n",
    "        self.type = type\n",
    "        \n",
    "# instance\n",
    "water_dragon = Dragon(\"water\")\n",
    "fire_dragon = Dragon(\"fire\")\n",
    "ice_dragon = Dragon(\"ice\")\n",
    "\n",
    "print(\"All available dragons\")\n",
    "print(f'1. {water_dragon.type} Dragon')\n",
    "print(f'2. {fire_dragon.type} Dragon')\n",
    "print(f'3. {ice_dragon.type} Dragon')"
   ]
  },
  {
   "cell_type": "code",
   "execution_count": 2,
   "id": "67cf0225",
   "metadata": {},
   "outputs": [
    {
     "name": "stdout",
     "output_type": "stream",
     "text": [
      "Pokemon Details\n",
      "Name: Pekachu\n",
      "type: Electric\n",
      "hp: 300\n",
      "atk: 400\n",
      "dfn: 200\n",
      "It's overall is 900\n"
     ]
    },
    {
     "data": {
      "text/plain": [
       "False"
      ]
     },
     "execution_count": 2,
     "metadata": {},
     "output_type": "execute_result"
    }
   ],
   "source": [
    "class Pokemons:\n",
    "    def __init__(self, name, type=\"normal\", hp=10, atk=10, dfn=90):\n",
    "        self.name = name\n",
    "        self.type = type\n",
    "        self.hp = hp\n",
    "        self.atk = atk\n",
    "        self.dfn = dfn\n",
    "\n",
    "    def status(self):\n",
    "        print(\"Pokemon Details\")\n",
    "        print(f'Name: {self.name}')\n",
    "        print(f'type: {self.type}')\n",
    "        print(f'hp: {self.hp}')\n",
    "        print(f'atk: {self.atk}')\n",
    "        print(f'dfn: {self.dfn}')\n",
    "\n",
    "    def overall(self):\n",
    "        return self.hp + self.atk + self.dfn \n",
    "    \n",
    "    def is_powerfull(self):\n",
    "        if self.overall() > 1000:\n",
    "            return True\n",
    "        else:\n",
    "            return False \n",
    "        \n",
    "Pekachu = Pokemons(\"Pekachu\", \"Electric\", 300, 400, 200)\n",
    "Pekachu.status()\n",
    "print(f'It\\'s overall is {Pekachu.overall()}')\n",
    "Pekachu.is_powerfull()\n"
   ]
  },
  {
   "cell_type": "code",
   "execution_count": 3,
   "id": "d9f50137",
   "metadata": {},
   "outputs": [
    {
     "name": "stdout",
     "output_type": "stream",
     "text": [
      "1 ********************\n",
      "Pokemon name: Pekachu\n",
      "Overall score: 900\n",
      "Is powerful: False \n",
      "\n",
      "2 ********************\n",
      "Pokemon name: Chirizard\n",
      "Overall score: 3200\n",
      "Is powerful: True \n",
      "\n",
      "3 ********************\n",
      "Pokemon name: Ratarat\n",
      "Overall score: 110\n",
      "Is powerful: False \n",
      "\n",
      "4 ********************\n",
      "Pokemon name: Snorlax\n",
      "Overall score: 1800\n",
      "Is powerful: True \n",
      "\n",
      "5 ********************\n",
      "Pokemon name: Bulbasuar\n",
      "Overall score: 800\n",
      "Is powerful: False \n",
      "\n"
     ]
    }
   ],
   "source": [
    "Chirizard = Pokemons(\"Chirizard\", \"Fire\", 2000, 500, 700)\n",
    "Ratarat = Pokemons(\"Ratarat\")\n",
    "Snorlax = Pokemons(\"Snorlax\", \"Ice\", 1000, 300, 500)\n",
    "Bulbasuar = Pokemons(\"Bulbasuar\", \"Grass\", 300, 200, 300)\n",
    "\n",
    "all_pokemons = [Pekachu, Chirizard, Ratarat, Snorlax, Bulbasuar]\n",
    "\n",
    "for count, pokemon in enumerate(all_pokemons, start=1):\n",
    "    print(count, \"*\" * 20)\n",
    "    print(f'Pokemon name: {pokemon.name}')\n",
    "    print(f'Overall score: {pokemon.overall()}')\n",
    "    print(f'Is powerful: {pokemon.is_powerfull()} \\n')"
   ]
  },
  {
   "cell_type": "code",
   "execution_count": 1,
   "id": "fa71f8cd",
   "metadata": {},
   "outputs": [
    {
     "name": "stdout",
     "output_type": "stream",
     "text": [
      "3\n"
     ]
    }
   ],
   "source": [
    "class calc:\n",
    "    def run(self, num1, operator, num2):\n",
    "        match operator:\n",
    "            case \"+\":  return self.add(num1, num2)   \n",
    "            case \"-\":  return self.sub(num1, num2)\n",
    "            case \"/\":  return self.div(num1, num2)    \n",
    "            case \"*\":  return self.mul(num1, num2)          \n",
    "            \n",
    "    def add(self, a, b): return a + b    \n",
    "    def sub(self, a, b): return a - b\n",
    "    def div(self, a, b): return a / b\n",
    "    def mul(self, a, b): return a * b \n",
    "    \n",
    "do = calc()\n",
    "\n",
    "while True:\n",
    "    a = int(input(\"Enter first number\"))\n",
    "    b = input(\"Enter operators from these: +, -, / ,*\")\n",
    "    c = int(input(\"Enter second number\"))\n",
    "    ans = do.run(a, b, c)\n",
    "    \n",
    "    print(ans)\n",
    "     \n",
    "    if input(\"Do you want to continue\") != \"y\":\n",
    "        break"
   ]
  },
  {
   "cell_type": "code",
   "execution_count": null,
   "id": "f6c2bbc0",
   "metadata": {},
   "outputs": [],
   "source": []
  }
 ],
 "metadata": {
  "kernelspec": {
   "display_name": "Python 3",
   "language": "python",
   "name": "python3"
  },
  "language_info": {
   "codemirror_mode": {
    "name": "ipython",
    "version": 3
   },
   "file_extension": ".py",
   "mimetype": "text/x-python",
   "name": "python",
   "nbconvert_exporter": "python",
   "pygments_lexer": "ipython3",
   "version": "3.13.9"
  }
 },
 "nbformat": 4,
 "nbformat_minor": 5
}
