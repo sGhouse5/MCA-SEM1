{
 "cells": [
  {
   "cell_type": "code",
   "execution_count": null,
   "id": "cc1ca654",
   "metadata": {},
   "outputs": [],
   "source": [
    "class Bottle:\n",
    "    color = \"\"\n",
    "    height = \"\"\n",
    "    size = \"\"\n",
    "    shape = \"\"\n",
    "    cap = \"\"\n",
    "    material = \"\"\n",
    "    quality = \"\"\n",
    "    volume = 0\n",
    "    price = 0\n",
    "    brand = \"\"\n",
    "    "
   ]
  },
  {
   "cell_type": "code",
   "execution_count": null,
   "id": "9e73ad34",
   "metadata": {},
   "outputs": [
    {
     "name": "stdout",
     "output_type": "stream",
     "text": [
      "<class '__main__.Polygon'>\n",
      "<__main__.Polygon object at 0x000001EBA90BD2B0>\n",
      "0\n",
      "3\n"
     ]
    }
   ],
   "source": [
    "class Polygon:\n",
    "    side = 0\n",
    "    \n",
    "triangle = Polygon() #object creation instance\n",
    "triangle.side = 3  #atttribute setting\n",
    "\n",
    "print(Polygon)\n",
    "print(triangle)\n",
    "print(Polygon.side)\n",
    "print(triangle.side)\n",
    "#student, emp., tv, laptop, fridege write 5 classes"
   ]
  },
  {
   "cell_type": "markdown",
   "id": "37b19c1b",
   "metadata": {},
   "source": [
    "### Student class"
   ]
  },
  {
   "cell_type": "code",
   "execution_count": null,
   "id": "c919cb5f",
   "metadata": {},
   "outputs": [],
   "source": [
    "class Student:\n",
    "    name = \"\"\n",
    "    id = 0\n",
    "    group = \"\"\n",
    "    \n",
    "    \n",
    "    \n",
    "me = Student()\n",
    "me.name = \"SGM\"\n",
    "me.id = 65\n",
    "me.group = \"MCA\""
   ]
  },
  {
   "cell_type": "code",
   "execution_count": null,
   "id": "30502545",
   "metadata": {},
   "outputs": [],
   "source": [
    "class Employe:\n",
    "    name = \"\"\n",
    "    id = 0\n",
    "    role = \"\"\n",
    "\n",
    "me = Employe()\n",
    "me.name = \"SGM\"\n",
    "id = 65\n",
    "role = \"Developer\""
   ]
  },
  {
   "cell_type": "code",
   "execution_count": null,
   "id": "cf854e20",
   "metadata": {},
   "outputs": [],
   "source": [
    "class Tv:\n",
    "    brand = \"\"\n",
    "    screen_size = \"\"\n",
    "    resolution = \"hd\"\n",
    "    price = 20000\n",
    "    \n",
    "my = Tv()\n",
    "my.brand = \"samsung\"\n",
    "my.screen_size = 22"
   ]
  },
  {
   "cell_type": "code",
   "execution_count": null,
   "id": "3a4c97a0",
   "metadata": {},
   "outputs": [],
   "source": [
    "class Laptop:\n",
    "    brand = \"hp\"\n",
    "    processor = \"64\"\n",
    "    ram = \"12\"\n",
    "    storage = \"256\"\n",
    "    price = 80000\n",
    "\n",
    "print(Laptop )"
   ]
  },
  {
   "cell_type": "code",
   "execution_count": 7,
   "id": "ca2c4403",
   "metadata": {},
   "outputs": [],
   "source": [
    "class Fridge:\n",
    "    brand = \"samsung\"\n",
    "    capacity = 80\n",
    "    door_type = \"single\"\n",
    "    rating = 3.5\n",
    "    price = 40000\n",
    "    \n",
    "    "
   ]
  },
  {
   "cell_type": "markdown",
   "id": "d77a9dd3",
   "metadata": {},
   "source": [
    "### without constructor"
   ]
  },
  {
   "cell_type": "code",
   "execution_count": null,
   "id": "d9b8ccbb",
   "metadata": {},
   "outputs": [],
   "source": [
    "class Area:\n",
    "    len = 0\n",
    "    bth = 0\n",
    "    def calc(self):\n",
    "        ans = self.len * self.bth\n",
    "        return ans\n"
   ]
  },
  {
   "cell_type": "markdown",
   "id": "fc438a8c",
   "metadata": {},
   "source": []
  },
  {
   "cell_type": "markdown",
   "id": "8ae438e5",
   "metadata": {},
   "source": [
    "### using constructor"
   ]
  },
  {
   "cell_type": "code",
   "execution_count": 49,
   "id": "fb95ac95",
   "metadata": {},
   "outputs": [],
   "source": [
    "class Area2:\n",
    "    def __init__(self, len, bth):\n",
    "        self.l = len\n",
    "        self.b = bth\n",
    "    def calc(self):\n",
    "        ans = self.l * self.b\n",
    "        print(self.l)\n",
    "        return ans\n"
   ]
  },
  {
   "cell_type": "markdown",
   "id": "355c0c58",
   "metadata": {},
   "source": [
    "### without constructor example"
   ]
  },
  {
   "cell_type": "code",
   "execution_count": 44,
   "id": "d1109334",
   "metadata": {},
   "outputs": [
    {
     "name": "stdout",
     "output_type": "stream",
     "text": [
      "5 5 25\n"
     ]
    }
   ],
   "source": [
    "o1 = Area()\n",
    "o1.len = 5\n",
    "o1.bth = 5\n",
    "res = o1.calc()\n",
    "print(o1.len, o1.bth, res)"
   ]
  },
  {
   "cell_type": "markdown",
   "id": "cbb40128",
   "metadata": {},
   "source": [
    "### constructor example"
   ]
  },
  {
   "cell_type": "code",
   "execution_count": 42,
   "id": "0fa086c0",
   "metadata": {},
   "outputs": [
    {
     "name": "stdout",
     "output_type": "stream",
     "text": [
      "5 5\n"
     ]
    }
   ],
   "source": [
    "o2 = Area2(5,5)\n",
    "print(o2.len, o2.bth)"
   ]
  }
 ],
 "metadata": {
  "kernelspec": {
   "display_name": "Python 3",
   "language": "python",
   "name": "python3"
  },
  "language_info": {
   "codemirror_mode": {
    "name": "ipython",
    "version": 3
   },
   "file_extension": ".py",
   "mimetype": "text/x-python",
   "name": "python",
   "nbconvert_exporter": "python",
   "pygments_lexer": "ipython3",
   "version": "3.13.9"
  }
 },
 "nbformat": 4,
 "nbformat_minor": 5
}
